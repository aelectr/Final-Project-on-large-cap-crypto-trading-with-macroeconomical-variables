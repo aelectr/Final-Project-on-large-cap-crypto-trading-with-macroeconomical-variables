{
 "cells": [
  {
   "cell_type": "code",
   "execution_count": 1,
   "id": "f1e02897",
   "metadata": {},
   "outputs": [
    {
     "ename": "IndentationError",
     "evalue": "expected an indented block (<ipython-input-1-855d65d69724>, line 3)",
     "output_type": "error",
     "traceback": [
      "\u001b[1;36m  File \u001b[1;32m\"<ipython-input-1-855d65d69724>\"\u001b[1;36m, line \u001b[1;32m3\u001b[0m\n\u001b[1;33m    EMA = pd.Series(df['Close'].ewm(span=n, min_periods=n).mean(), name='EMA_'\\\u001b[0m\n\u001b[1;37m    ^\u001b[0m\n\u001b[1;31mIndentationError\u001b[0m\u001b[1;31m:\u001b[0m expected an indented block\n"
     ]
    }
   ],
   "source": [
    "#calculation of exponential moving average\n",
    "def EMA(df, n):\n",
    "EMA = pd.Series(df['Close'].ewm(span=n, min_periods=n).mean(), name='EMA_'\\\n",
    "+ str(n))\n",
    "return EMA\n",
    "dataset['EMA10'] = EMA(dataset, 10)\n",
    "dataset['EMA30'] = EMA(dataset, 30)\n",
    "dataset['EMA200'] = EMA(dataset, 200)\n",
    "dataset.head()\n",
    "#calculation of rate of change\n",
    "def ROC(df, n):\n",
    "M = df.diff(n - 1)\n",
    "N = df.shift(n - 1)\n",
    "ROC = pd.Series(((M / N) * 100), name = 'ROC_' + str(n))\n",
    "return ROC\n",
    "dataset['ROC10'] = ROC(dataset['Close'], 10)\n",
    "dataset['ROC30'] = ROC(dataset['Close'], 30)\n",
    "#calculation of price momentum\n",
    "def MOM(df, n):\n",
    "MOM = pd.Series(df.diff(n), name='Momentum_' + str(n))\n",
    "return MOM\n",
    "dataset['MOM10'] = MOM(dataset['Close'], 10)\n",
    "dataset['MOM30'] = MOM(dataset['Close'], 30)\n",
    "#calculation of relative strength index\n",
    "def RSI(series, period):\n",
    "delta = series.diff().dropna()\n",
    "u = delta * 0\n",
    "d = u.copy()\n",
    "u[delta > 0] = delta[delta > 0]\n",
    "d[delta < 0] = -delta[delta < 0]\n",
    "u[u.index[period-1]] = np.mean( u[:period] ) #first value is sum of avg gains\n",
    "u = u.drop(u.index[:(period-1)])\n",
    "d[d.index[period-1]] = np.mean( d[:period] ) #first value is sum of avg losses\n",
    "d = d.drop(d.index[:(period-1)])\n",
    "rs = u.ewm(com=period-1, adjust=False).mean() / \\\n",
    "d.ewm(com=period-1, adjust=False).mean()\n",
    "return 100 - 100 / (1 + rs)\n",
    "dataset['RSI10'] = RSI(dataset['Close'], 10)\n",
    "dataset['RSI30'] = RSI(dataset['Close'], 30)\n",
    "dataset['RSI200'] = RSI(dataset['Close'], 200)\n",
    "#calculation of stochastic osillator.\n",
    "Case Study 3: Bitcoin Trading Strategy | 183\n",
    "def STOK(close, low, high, n):\n",
    "STOK = ((close - low.rolling(n).min()) / (high.rolling(n).max() - \\\n",
    "low.rolling(n).min())) * 100\n",
    "return STOK\n",
    "def STOD(close, low, high, n):\n",
    "STOK = ((close - low.rolling(n).min()) / (high.rolling(n).max() - \\\n",
    "low.rolling(n).min())) * 100\n",
    "STOD = STOK.rolling(3).mean()\n",
    "return STOD\n",
    "dataset['%K10'] = STOK(dataset['Close'], dataset['Low'], dataset['High'], 10)\n",
    "dataset['%D10'] = STOD(dataset['Close'], dataset['Low'], dataset['High'], 10)\n",
    "dataset['%K30'] = STOK(dataset['Close'], dataset['Low'], dataset['High'], 30)\n",
    "dataset['%D30'] = STOD(dataset['Close'], dataset['Low'], dataset['High'], 30)\n",
    "dataset['%K200'] = STOK(dataset['Close'], dataset['Low'], dataset['High'], 200)\n",
    "dataset['%D200'] = STOD(dataset['Close'], dataset['Low'], dataset['High'], 200)\n",
    "#calculation of moving average\n",
    "def MA(df, n):\n",
    "MA = pd.Series(df['Close'].rolling(n, min_periods=n).mean(), name='MA_'\\\n",
    "+ str(n))\n",
    "return MA\n",
    "dataset['MA21'] = MA(dataset, 10)\n",
    "dataset['MA63'] = MA(dataset, 30)\n",
    "dataset['MA252'] = MA(dataset, 200)"
   ]
  },
  {
   "cell_type": "code",
   "execution_count": null,
   "id": "0d02c2a0",
   "metadata": {},
   "outputs": [],
   "source": []
  }
 ],
 "metadata": {
  "kernelspec": {
   "display_name": "Python 3",
   "language": "python",
   "name": "python3"
  },
  "language_info": {
   "codemirror_mode": {
    "name": "ipython",
    "version": 3
   },
   "file_extension": ".py",
   "mimetype": "text/x-python",
   "name": "python",
   "nbconvert_exporter": "python",
   "pygments_lexer": "ipython3",
   "version": "3.8.8"
  }
 },
 "nbformat": 4,
 "nbformat_minor": 5
}
